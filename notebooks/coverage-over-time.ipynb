{
 "cells": [
  {
   "cell_type": "markdown",
   "metadata": {},
   "source": [
    "# Visualizing Field Coverage with a Stacked Graph"
   ]
  },
  {
   "cell_type": "markdown",
   "metadata": {},
   "source": [
    "The following is an example of how to pull data from our backend to visualize it in this notebook using d3.  This example is not a particularly useful for actually analyzing field coverage, but it does nicely illustrate the flow from our graphql backend to this notebook to a visual using a python library or something like d3js.  Please see the resulting graph as a proof of concept, not a sharable visual.\n"
   ]
  },
  {
   "cell_type": "markdown",
   "metadata": {},
   "source": [
    "## Import all Our necessary python dependencies\n",
    "\n"
   ]
  },
  {
   "cell_type": "code",
   "execution_count": 1,
   "metadata": {},
   "outputs": [],
   "source": [
    "from gql import gql, Client # generate graphql queries and setup client for talking to graphql endpoints.\n",
    "from gql.transport.requests import RequestsHTTPTransport # connect our client to a gql endpoint over https\n",
    "import pandas as pd # for manipulating our data \n",
    "import json # parse returned gql into json for our d3 visualization\n",
    "from IPython.display import display, Javascript, HTML # allow us to use javascript within python \n",
    "                                                      # and manipulate the dom of this notebook\n"
   ]
  },
  {
   "cell_type": "markdown",
   "metadata": {},
   "source": [
    "## Import Our Data\n",
    "\n"
   ]
  },
  {
   "cell_type": "code",
   "execution_count": null,
   "metadata": {},
   "outputs": [],
   "source": []
  },
  {
   "cell_type": "markdown",
   "metadata": {},
   "source": [
    "Luckily, our stable_endpoint_stats gives us exactly that."
   ]
  },
  {
   "cell_type": "code",
   "execution_count": 23,
   "metadata": {},
   "outputs": [],
   "source": [
    "stats_query=gql(\"\"\"\n",
    "query{\n",
    "  stable_endpoint_stats {\n",
    "    test_hits\n",
    "    conf_hits\n",
    "    date\n",
    "  }\n",
    "}\n",
    "\"\"\")"
   ]
  },
  {
   "cell_type": "markdown",
   "metadata": {},
   "source": [
    "Our backend is reachable through a single api endpoint, located here:"
   ]
  },
  {
   "cell_type": "code",
   "execution_count": 24,
   "metadata": {},
   "outputs": [],
   "source": [
    "BACKEND_URL = \"https://zz-hasura.sharing.io/v1/graphql\""
   ]
  },
  {
   "cell_type": "markdown",
   "metadata": {},
   "source": [
    "To be able to post this query to our graphql backend, we need to setup a gql client that fetches from this endpoint.  the python graphql client calls this the `transport`"
   ]
  },
  {
   "cell_type": "code",
   "execution_count": 25,
   "metadata": {},
   "outputs": [],
   "source": [
    "_transport = RequestsHTTPTransport(\n",
    "    url=BACKEND_URL,\n",
    "    use_json=True\n",
    ")\n",
    "\n",
    "client = Client(\n",
    "    transport=_transport,\n",
    "    fetch_schema_from_transport=True\n",
    ")"
   ]
  },
  {
   "cell_type": "markdown",
   "metadata": {},
   "source": [
    "We can now use the client to execute this query.  Printing it out shows that our returned data matches our desired structure."
   ]
  },
  {
   "cell_type": "code",
   "execution_count": 26,
   "metadata": {},
   "outputs": [
    {
     "name": "stdout",
     "output_type": "stream",
     "text": [
      "[\n",
      "    {\n",
      "        \"conf_hits\": 118,\n",
      "        \"date\": \"2019-09-16\",\n",
      "        \"test_hits\": 171\n",
      "    },\n",
      "    {\n",
      "        \"conf_hits\": 124,\n",
      "        \"date\": \"2019-09-30\",\n",
      "        \"test_hits\": 171\n",
      "    },\n",
      "    {\n",
      "        \"conf_hits\": 114,\n",
      "        \"date\": \"2019-10-08\",\n",
      "        \"test_hits\": 165\n",
      "    }\n",
      "]\n"
     ]
    }
   ],
   "source": [
    "stable_endpoint_stats = client.execute(stats_query)[\"stable_endpoint_stats\"]\n",
    "print(json.dumps(stable_endpoint_stats, indent=4, sort_keys=True))"
   ]
  },
  {
   "cell_type": "markdown",
   "metadata": {},
   "source": [
    "Now we can visualize it!\n",
    "\n",
    "## Visualizing the Data"
   ]
  },
  {
   "cell_type": "markdown",
   "metadata": {},
   "source": [
    "I am using the example provided by Stefan Liipens' excellent blogpost: [Custom D3 Visualization in a Jupyter Notebook](https://www.stefaanlippens.net/jupyter-custom-d3-visualization.html)\n",
    "\n",
    "First, we tell our notebook to require in d3 (via it's minified file) and our  linechart visualization held in this local notebook folder."
   ]
  },
  {
   "cell_type": "code",
   "execution_count": 27,
   "metadata": {},
   "outputs": [
    {
     "data": {
      "application/javascript": [
       "require.config({paths: {d3: 'https://d3js.org/d3.v3.min'}});"
      ],
      "text/plain": [
       "<IPython.core.display.Javascript object>"
      ]
     },
     "metadata": {},
     "output_type": "display_data"
    },
    {
     "data": {
      "application/javascript": [
       "// Undefine chart require.undef('lineChart')\n",
       "\n",
       "define('lineChart', ['d3'], function (d3 ) {\n",
       "    function draw (container, data) {\n",
       "        var margin = {\n",
       "            top: 20,\n",
       "            right: 80,\n",
       "            bottom: 30,\n",
       "            left: 50\n",
       "        },\n",
       "            width = 900 - margin.left - margin.right,\n",
       "            height = 500 - margin.top - margin.bottom;\n",
       "\n",
       "        var parseDate = d3.time.format(\"%Y-%m-%d\").parse;\n",
       "\n",
       "        var x = d3.time.scale()\n",
       "            .range([0, width]);\n",
       "\n",
       "        var y = d3.scale.linear()\n",
       "            .range([height, 0]);\n",
       "\n",
       "        var color = d3.scale.category10();\n",
       "\n",
       "        var xAxis = d3.svg.axis()\n",
       "            .scale(x)\n",
       "            .orient(\"bottom\");\n",
       "\n",
       "        var yAxis = d3.svg.axis()\n",
       "            .scale(y)\n",
       "            .orient(\"left\");\n",
       "\n",
       "        var line = d3.svg.line()\n",
       "            .interpolate(\"basis\")\n",
       "            .x(function(d) {\n",
       "                return x(d.date);\n",
       "            })\n",
       "            .y(function(d) {\n",
       "                return y(d.temperature);\n",
       "            });\n",
       "\n",
       "        var svg = d3.select(container).append(\"svg\")\n",
       "            .attr(\"width\", width + margin.left + margin.right)\n",
       "            .attr(\"height\", height + margin.top + margin.bottom)\n",
       "            .append(\"g\")\n",
       "            .attr(\"transform\", \"translate(\" + margin.left + \",\" + margin.top + \")\");\n",
       "\n",
       "\n",
       "        color.domain(d3.keys(data[0]).filter(function(key) {\n",
       "            return key !== \"date\";\n",
       "        }));\n",
       "\n",
       "        data.forEach(function(d) {\n",
       "            d.date = parseDate(d.date);\n",
       "        });\n",
       "\n",
       "        var counts = color.domain().map(function(name) {\n",
       "            return {\n",
       "                name: name,\n",
       "                values: data.map(function(d) {\n",
       "                    return {\n",
       "                        date: d.date,\n",
       "                        temperature: +d[name]\n",
       "                    };\n",
       "                })\n",
       "            };\n",
       "        });\n",
       "\n",
       "        x.domain(d3.extent(data, function(d) {\n",
       "            return d.date;\n",
       "        }));\n",
       "\n",
       "        y.domain([\n",
       "            d3.min(counts, function(c) {\n",
       "                return d3.min(c.values, function(v) {\n",
       "                    return v.temperature;\n",
       "                });\n",
       "            }),\n",
       "            d3.max(counts, function(c) {\n",
       "                return d3.max(c.values, function(v) {return v.temperature;}) + 100;\n",
       "            })\n",
       "        ]);\n",
       "\n",
       "        var legend = svg.selectAll('g')\n",
       "            .data(counts)\n",
       "            .enter()\n",
       "            .append('g')\n",
       "            .attr('class', 'legend');\n",
       "\n",
       "        legend.append('rect')\n",
       "            .attr('x', width - 20)\n",
       "            .attr('y', function(d, i) {\n",
       "                return i * 20;\n",
       "            })\n",
       "            .attr('width', 10)\n",
       "            .attr('height', 10)\n",
       "            .style('fill', function(d) {\n",
       "                return color(d.name);\n",
       "            });\n",
       "\n",
       "        legend.append('text')\n",
       "            .attr('x', width - 8)\n",
       "            .attr('y', function(d, i) {\n",
       "                return (i * 20) + 9;\n",
       "            })\n",
       "            .text(function(d) {\n",
       "                return d.name;\n",
       "            });\n",
       "\n",
       "        svg.append(\"g\")\n",
       "            .attr(\"class\", \"x axis\")\n",
       "            .attr(\"transform\", \"translate(0,\" + height + \")\")\n",
       "            .call(xAxis);\n",
       "\n",
       "        svg.append(\"g\")\n",
       "            .attr(\"class\", \"y axis\")\n",
       "            .call(yAxis)\n",
       "            .append(\"text\")\n",
       "            .attr(\"transform\", \"rotate(-90)\")\n",
       "            .attr(\"y\", 6)\n",
       "            .attr(\"dy\", \".71em\")\n",
       "            .style(\"text-anchor\", \"end\")\n",
       "            .text(\"# of endpoints\");\n",
       "\n",
       "        var city = svg.selectAll(\".city\")\n",
       "            .data(counts)\n",
       "            .enter().append(\"g\")\n",
       "            .attr(\"class\", \"city\");\n",
       "\n",
       "        city.append(\"path\")\n",
       "            .attr(\"class\", \"line\")\n",
       "            .attr(\"d\", function(d) {\n",
       "                return line(d.values);\n",
       "            })\n",
       "            .style(\"stroke\", function(d) {\n",
       "                return color(d.name);\n",
       "            });\n",
       "\n",
       "        city.append(\"text\")\n",
       "            .datum(function(d) {\n",
       "                return {\n",
       "                    name: d.name,\n",
       "                    value: d.values[d.values.length - 1]\n",
       "                };\n",
       "            })\n",
       "            .attr(\"transform\", function(d) {\n",
       "                return \"translate(\" + x(d.value.date) + \",\" + y(d.value.temperature) + \")\";\n",
       "            })\n",
       "            .attr(\"x\", 3)\n",
       "            .attr(\"dy\", \".35em\")\n",
       "            .text(function(d) {\n",
       "                return d.name;\n",
       "            });\n",
       "\n",
       "        var mouseG = svg.append(\"g\")\n",
       "            .attr(\"class\", \"mouse-over-effects\");\n",
       "\n",
       "        mouseG.append(\"path\") // this is the black vertical line to follow mouse\n",
       "            .attr(\"class\", \"mouse-line\")\n",
       "            .style(\"stroke\", \"black\")\n",
       "            .style(\"stroke-width\", \"1px\")\n",
       "            .style(\"opacity\", \"0\");\n",
       "\n",
       "        var lines = document.getElementsByClassName('line');\n",
       "\n",
       "        var mousePerLine = mouseG.selectAll('.mouse-per-line')\n",
       "            .data(counts)\n",
       "            .enter()\n",
       "            .append(\"g\")\n",
       "            .attr(\"class\", \"mouse-per-line\");\n",
       "\n",
       "        mousePerLine.append(\"circle\")\n",
       "            .attr(\"r\", 7)\n",
       "            .style(\"stroke\", function(d) {\n",
       "                return color(d.name);\n",
       "            })\n",
       "            .style(\"fill\", \"none\")\n",
       "            .style(\"stroke-width\", \"1px\")\n",
       "            .style(\"opacity\", \"0\");\n",
       "\n",
       "        mousePerLine.append(\"text\")\n",
       "            .attr(\"transform\", \"translate(10,3)\");\n",
       "\n",
       "        mouseG.append('svg:rect') // append a rect to catch mouse movements on canvas\n",
       "            .attr('width', width) // can't catch mouse events on a g element\n",
       "            .attr('height', height)\n",
       "            .attr('fill', 'none')\n",
       "            .attr('pointer-events', 'all')\n",
       "            .on('mouseout', function() { // on mouse out hide line, circles and text\n",
       "                d3.select(\".mouse-line\")\n",
       "                    .style(\"opacity\", \"0\");\n",
       "                d3.selectAll(\".mouse-per-line circle\")\n",
       "                    .style(\"opacity\", \"0\");\n",
       "                d3.selectAll(\".mouse-per-line text\")\n",
       "                    .style(\"opacity\", \"0\");\n",
       "            })\n",
       "            .on('mouseover', function() { // on mouse in show line, circles and text\n",
       "                d3.select(\".mouse-line\")\n",
       "                    .style(\"opacity\", \"1\");\n",
       "                d3.selectAll(\".mouse-per-line circle\")\n",
       "                    .style(\"opacity\", \"1\");\n",
       "                d3.selectAll(\".mouse-per-line text\")\n",
       "                    .style(\"opacity\", \"1\");\n",
       "            })\n",
       "            .on('mousemove', function() { // mouse moving over canvas\n",
       "                var mouse = d3.mouse(this);\n",
       "                d3.select(\".mouse-line\")\n",
       "                    .attr(\"d\", function() {\n",
       "                        var d = \"M\" + mouse[0] + \",\" + height;\n",
       "                        d += \" \" + mouse[0] + \",\" + 0;\n",
       "                        return d;\n",
       "                    });\n",
       "\n",
       "                d3.selectAll(\".mouse-per-line\")\n",
       "                    .attr(\"transform\", function(d, i) {\n",
       "                        console.log(width/mouse[0])\n",
       "                        var xDate = x.invert(mouse[0]),\n",
       "                            bisect = d3.bisector(function(d) { return d.date; }).right;\n",
       "                        idx = bisect(d.values, xDate);\n",
       "\n",
       "                        var beginning = 0,\n",
       "                            end = lines[i].getTotalLength(),\n",
       "                            target = null;\n",
       "\n",
       "                        while (true){\n",
       "                            target = Math.floor((beginning + end) / 2);\n",
       "                            pos = lines[i].getPointAtLength(target);\n",
       "                            if ((target === end || target === beginning) && pos.x !== mouse[0]) {\n",
       "                                break;\n",
       "                            }\n",
       "                            if (pos.x > mouse[0])      end = target;\n",
       "                            else if (pos.x < mouse[0]) beginning = target;\n",
       "                            else break; //position found\n",
       "                        }\n",
       "\n",
       "                        d3.select(this).select('text')\n",
       "                            .text(y.invert(pos.y).toFixed(2));\n",
       "\n",
       "                        return \"translate(\" + mouse[0] + \",\" + pos.y +\")\";\n",
       "                    });\n",
       "            });\n",
       "    }\n",
       "    return draw;\n",
       "})\n",
       "\n",
       "element.append('<small>&#x25C9; &#x25CB; &#x25EF; Loaded linechart.js successfully, friend! &#x25CC; &#x25CE; &#x25CF;</small>');\n"
      ],
      "text/plain": [
       "<IPython.core.display.Javascript object>"
      ]
     },
     "metadata": {},
     "output_type": "display_data"
    }
   ],
   "source": [
    "display(Javascript(\"require.config({paths: {d3: 'https://d3js.org/d3.v3.min'}});\"))\n",
    "display(Javascript(filename=\"linechart.js\"))"
   ]
  },
  {
   "cell_type": "markdown",
   "metadata": {},
   "source": [
    "The barchart visualization is expecting a container and data.  The container is the dom element we'll append our svg to, and then our imported data will generate a bar chart.\n",
    "\n",
    "element is a global variable indicating the output cell for wherever the code is located, and so by wrapping our javascript in closures, we can keep element local to any particular cell.\n",
    "\n",
    "So here we are defining a python function, that is just a string interpoloation of a javascript function, that thinks it is latching to an html page, but is actually latching onto a single cell (within an html page)."
   ]
  },
  {
   "cell_type": "code",
   "execution_count": 28,
   "metadata": {},
   "outputs": [],
   "source": [
    "def draw_chart():\n",
    "    display(Javascript(\"\"\"\n",
    "        (function(element){\n",
    "            require(['lineChart'], function(lineChart) {\n",
    "                lineChart(element.get(0), %s);\n",
    "            });\n",
    "        })(element);\n",
    "    \"\"\" % json.dumps(stable_endpoint_stats)))"
   ]
  },
  {
   "cell_type": "markdown",
   "metadata": {},
   "source": [
    "To include the visualization in our notebook, we just call the function."
   ]
  },
  {
   "cell_type": "code",
   "execution_count": 29,
   "metadata": {},
   "outputs": [
    {
     "data": {
      "application/javascript": [
       "\n",
       "        (function(element){\n",
       "            require(['lineChart'], function(lineChart) {\n",
       "                lineChart(element.get(0), [{\"test_hits\": 171, \"conf_hits\": 118, \"date\": \"2019-09-16\"}, {\"test_hits\": 171, \"conf_hits\": 124, \"date\": \"2019-09-30\"}, {\"test_hits\": 165, \"conf_hits\": 114, \"date\": \"2019-10-08\"}]);\n",
       "            });\n",
       "        })(element);\n",
       "    "
      ],
      "text/plain": [
       "<IPython.core.display.Javascript object>"
      ]
     },
     "metadata": {},
     "output_type": "display_data"
    }
   ],
   "source": [
    "draw_chart()"
   ]
  },
  {
   "cell_type": "code",
   "execution_count": null,
   "metadata": {},
   "outputs": [],
   "source": []
  }
 ],
 "metadata": {
  "finalized": {
   "timestamp": 1571195574725,
   "trusted": true
  },
  "kernelspec": {
   "display_name": "Python 3",
   "language": "python",
   "name": "python3"
  },
  "language_info": {
   "codemirror_mode": {
    "name": "ipython",
    "version": 3
   },
   "file_extension": ".py",
   "mimetype": "text/x-python",
   "name": "python",
   "nbconvert_exporter": "python",
   "pygments_lexer": "ipython3",
   "version": "3.6.8"
  }
 },
 "nbformat": 4,
 "nbformat_minor": 2
}
