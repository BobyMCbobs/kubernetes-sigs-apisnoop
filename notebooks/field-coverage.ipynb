{
 "cells": [
  {
   "cell_type": "markdown",
   "metadata": {},
   "source": [
    "# Visualizing Field Coverage with a Stacked Graph"
   ]
  },
  {
   "cell_type": "markdown",
   "metadata": {},
   "source": [
    "The following is an example of how to pull data from our backend to visualize it in this notebook using d3.  This example is not a particularly useful for actually analyzing field coverage, but it does nicely illustrate the flow from our graphql backend to this notebook to a visual using a python library or something like d3js.  Please see the resulting graph as a proof of concept, not a sharable visual.\n"
   ]
  },
  {
   "cell_type": "markdown",
   "metadata": {},
   "source": [
    "## Import all Our necessary python dependencies\n",
    "\n"
   ]
  },
  {
   "cell_type": "code",
   "execution_count": 19,
   "metadata": {},
   "outputs": [],
   "source": [
    "from gql import gql, Client # generate graphql queries and setup client for talking to graphql endpoints.\n",
    "from gql.transport.requests import RequestsHTTPTransport # connect our client to a gql endpoint over https\n",
    "import pandas as pd # for manipulating our data \n",
    "import json # parse returned gql into json for our d3 visualization\n",
    "from IPython.display import display, Javascript, HTML # allow us to use javascript within python \n",
    "                                                      # and manipulate the dom of this notebook\n"
   ]
  },
  {
   "cell_type": "markdown",
   "metadata": {},
   "source": [
    "## Import Our Data\n",
    "\n",
    "For this visualization we want to have an x-axis displaying each podspec field, and a stacked barchart showing it's test  hits and e2e hits.  So our data should look, basically, like this:"
   ]
  },
  {
   "cell_type": "code",
   "execution_count": 20,
   "metadata": {},
   "outputs": [],
   "source": [
    "sample_data = [\n",
    " { \"podspec_field\": \"containers\", \"e2e_hits\": \"10\", \"conf_hits\": \"15\"},\n",
    " { \"podspec_field\": \"volumes\", \"e2e_hits\": \"12\", \"conf_hits\": \"18\"},\n",
    " { \"podspec_field\": \"nodes\", \"e2e_hits\": \"05\", \"conf_hits\": \"20\"},\n",
    " { \"podspec_field\": \"storage\", \"e2e_hits\": \"01\", \"conf_hits\": \"15\"},\n",
    " { \"podspec_field\": \"k8s\", \"e2e_hits\": \"02\", \"conf_hits\": \"10\"},\n",
    "]"
   ]
  },
  {
   "cell_type": "markdown",
   "metadata": {},
   "source": [
    "We have a view in our db called 'podspec_field_report' that contains each of these values, so we can setup a graphql query that asks _just_ for them.  We'll set it to a variable to make it easier to execute and/or change later."
   ]
  },
  {
   "cell_type": "code",
   "execution_count": 21,
   "metadata": {},
   "outputs": [],
   "source": [
    "podspec_field_report_query=gql(\"\"\"\n",
    "query{\n",
    "  podspec_field_report {\n",
    "    podspec_field\n",
    "    e2e_hits\n",
    "    conf_hits\n",
    "  }\n",
    "}\n",
    "\"\"\")"
   ]
  },
  {
   "cell_type": "markdown",
   "metadata": {},
   "source": [
    "Our backend is reachable through a single api endpoint, located here:"
   ]
  },
  {
   "cell_type": "code",
   "execution_count": 22,
   "metadata": {},
   "outputs": [],
   "source": [
    "BACKEND_URL = \"https://zz-hasura.sharing.io/v1/graphql\""
   ]
  },
  {
   "cell_type": "markdown",
   "metadata": {},
   "source": [
    "To be able to post this query to our graphql backend, we need to setup a gql client that fetches from this endpoint.  the python graphql client calls this the `transport`"
   ]
  },
  {
   "cell_type": "code",
   "execution_count": 23,
   "metadata": {},
   "outputs": [],
   "source": [
    "_transport = RequestsHTTPTransport(\n",
    "    url=BACKEND_URL,\n",
    "    use_json=True\n",
    ")\n",
    "\n",
    "client = Client(\n",
    "    transport=_transport,\n",
    "    fetch_schema_from_transport=True\n",
    ")"
   ]
  },
  {
   "cell_type": "markdown",
   "metadata": {},
   "source": [
    "We can now use the client to execute this query.  Printing it out shows that our returned data matches our desired structure."
   ]
  },
  {
   "cell_type": "code",
   "execution_count": 24,
   "metadata": {},
   "outputs": [
    {
     "name": "stdout",
     "output_type": "stream",
     "text": [
      "[\n",
      "    {\n",
      "        \"conf_hits\": 0,\n",
      "        \"e2e_hits\": 0,\n",
      "        \"podspec_field\": \"ephemeralContainers\"\n",
      "    },\n",
      "    {\n",
      "        \"conf_hits\": 0,\n",
      "        \"e2e_hits\": 0,\n",
      "        \"podspec_field\": \"overhead\"\n",
      "    },\n",
      "    {\n",
      "        \"conf_hits\": 0,\n",
      "        \"e2e_hits\": 0,\n",
      "        \"podspec_field\": \"preemptionPolicy\"\n",
      "    },\n",
      "    {\n",
      "        \"conf_hits\": 0,\n",
      "        \"e2e_hits\": 0,\n",
      "        \"podspec_field\": \"shareProcessNamespace\"\n",
      "    },\n",
      "    {\n",
      "        \"conf_hits\": 0,\n",
      "        \"e2e_hits\": 0,\n",
      "        \"podspec_field\": \"topologySpreadConstraints\"\n",
      "    },\n",
      "    {\n",
      "        \"conf_hits\": 0,\n",
      "        \"e2e_hits\": 8,\n",
      "        \"podspec_field\": \"readinessGates\"\n",
      "    },\n",
      "    {\n",
      "        \"conf_hits\": 0,\n",
      "        \"e2e_hits\": 16,\n",
      "        \"podspec_field\": \"dnsConfig\"\n",
      "    },\n",
      "    {\n",
      "        \"conf_hits\": 0,\n",
      "        \"e2e_hits\": 16,\n",
      "        \"podspec_field\": \"hostIPC\"\n",
      "    },\n",
      "    {\n",
      "        \"conf_hits\": 0,\n",
      "        \"e2e_hits\": 16,\n",
      "        \"podspec_field\": \"hostPID\"\n",
      "    },\n",
      "    {\n",
      "        \"conf_hits\": 0,\n",
      "        \"e2e_hits\": 32,\n",
      "        \"podspec_field\": \"priorityClassName\"\n",
      "    },\n",
      "    {\n",
      "        \"conf_hits\": 0,\n",
      "        \"e2e_hits\": 36,\n",
      "        \"podspec_field\": \"runtimeClassName\"\n",
      "    },\n",
      "    {\n",
      "        \"conf_hits\": 0,\n",
      "        \"e2e_hits\": 43,\n",
      "        \"podspec_field\": \"affinity\"\n",
      "    },\n",
      "    {\n",
      "        \"conf_hits\": 8,\n",
      "        \"e2e_hits\": 0,\n",
      "        \"podspec_field\": \"hostAliases\"\n",
      "    },\n",
      "    {\n",
      "        \"conf_hits\": 8,\n",
      "        \"e2e_hits\": 0,\n",
      "        \"podspec_field\": \"imagePullSecrets\"\n",
      "    },\n",
      "    {\n",
      "        \"conf_hits\": 14,\n",
      "        \"e2e_hits\": 8,\n",
      "        \"podspec_field\": \"activeDeadlineSeconds\"\n",
      "    },\n",
      "    {\n",
      "        \"conf_hits\": 32,\n",
      "        \"e2e_hits\": 1315,\n",
      "        \"podspec_field\": \"initContainers\"\n",
      "    },\n",
      "    {\n",
      "        \"conf_hits\": 41,\n",
      "        \"e2e_hits\": 1574,\n",
      "        \"podspec_field\": \"hostNetwork\"\n",
      "    },\n",
      "    {\n",
      "        \"conf_hits\": 60,\n",
      "        \"e2e_hits\": 36,\n",
      "        \"podspec_field\": \"automountServiceAccountToken\"\n",
      "    },\n",
      "    {\n",
      "        \"conf_hits\": 60,\n",
      "        \"e2e_hits\": 85,\n",
      "        \"podspec_field\": \"subdomain\"\n",
      "    },\n",
      "    {\n",
      "        \"conf_hits\": 60,\n",
      "        \"e2e_hits\": 85,\n",
      "        \"podspec_field\": \"hostname\"\n",
      "    },\n",
      "    {\n",
      "        \"conf_hits\": 105,\n",
      "        \"e2e_hits\": 83,\n",
      "        \"podspec_field\": \"priority\"\n",
      "    },\n",
      "    {\n",
      "        \"conf_hits\": 105,\n",
      "        \"e2e_hits\": 83,\n",
      "        \"podspec_field\": \"tolerations\"\n",
      "    },\n",
      "    {\n",
      "        \"conf_hits\": 127,\n",
      "        \"e2e_hits\": 4170,\n",
      "        \"podspec_field\": \"nodeName\"\n",
      "    },\n",
      "    {\n",
      "        \"conf_hits\": 128,\n",
      "        \"e2e_hits\": 257,\n",
      "        \"podspec_field\": \"nodeSelector\"\n",
      "    },\n",
      "    {\n",
      "        \"conf_hits\": 201,\n",
      "        \"e2e_hits\": 1199,\n",
      "        \"podspec_field\": \"serviceAccount\"\n",
      "    },\n",
      "    {\n",
      "        \"conf_hits\": 201,\n",
      "        \"e2e_hits\": 1199,\n",
      "        \"podspec_field\": \"serviceAccountName\"\n",
      "    },\n",
      "    {\n",
      "        \"conf_hits\": 876,\n",
      "        \"e2e_hits\": 6903,\n",
      "        \"podspec_field\": \"volumes\"\n",
      "    },\n",
      "    {\n",
      "        \"conf_hits\": 1741,\n",
      "        \"e2e_hits\": 6506,\n",
      "        \"podspec_field\": \"enableServiceLinks\"\n",
      "    },\n",
      "    {\n",
      "        \"conf_hits\": 2063,\n",
      "        \"e2e_hits\": 13194,\n",
      "        \"podspec_field\": \"containers\"\n",
      "    },\n",
      "    {\n",
      "        \"conf_hits\": 2063,\n",
      "        \"e2e_hits\": 13194,\n",
      "        \"podspec_field\": \"dnsPolicy\"\n",
      "    },\n",
      "    {\n",
      "        \"conf_hits\": 2063,\n",
      "        \"e2e_hits\": 13194,\n",
      "        \"podspec_field\": \"restartPolicy\"\n",
      "    },\n",
      "    {\n",
      "        \"conf_hits\": 2063,\n",
      "        \"e2e_hits\": 13194,\n",
      "        \"podspec_field\": \"schedulerName\"\n",
      "    },\n",
      "    {\n",
      "        \"conf_hits\": 2063,\n",
      "        \"e2e_hits\": 13194,\n",
      "        \"podspec_field\": \"securityContext\"\n",
      "    },\n",
      "    {\n",
      "        \"conf_hits\": 2063,\n",
      "        \"e2e_hits\": 13194,\n",
      "        \"podspec_field\": \"terminationGracePeriodSeconds\"\n",
      "    }\n",
      "]\n"
     ]
    }
   ],
   "source": [
    "podspec_field_report = client.execute(podspec_field_report_query)[\"podspec_field_report\"]\n",
    "print(json.dumps(podspec_field_report, indent=4, sort_keys=True))"
   ]
  },
  {
   "cell_type": "markdown",
   "metadata": {},
   "source": [
    "Now we can visualize it!\n",
    "\n",
    "## Visualizing the Data"
   ]
  },
  {
   "cell_type": "markdown",
   "metadata": {},
   "source": [
    "I am using the example provided by Stefan Liipens' excellent blogpost: [Custom D3 Visualization in a Jupyter Notebook](https://www.stefaanlippens.net/jupyter-custom-d3-visualization.html)\n",
    "\n",
    "First, we tell our notebook to require in d3 (via it's minified file) and our  barchart visualization held in this local notebook folder."
   ]
  },
  {
   "cell_type": "code",
   "execution_count": 25,
   "metadata": {},
   "outputs": [
    {
     "data": {
      "application/javascript": [
       "require.config({paths: {d3: 'https://d3js.org/d3.v3.min'}});"
      ],
      "text/plain": [
       "<IPython.core.display.Javascript object>"
      ]
     },
     "metadata": {},
     "output_type": "display_data"
    },
    {
     "data": {
      "application/javascript": [
       "// Undefine barchart\n",
       "require.undef('barchart')\n",
       "\n",
       "define('barchart', ['d3'], function (d3 ) {\n",
       "    function draw (container, data) {\n",
       "        // Setup svg using Bostock's margin convention\n",
       "\n",
       "        var margin = {top: 20, right: 160, bottom: 235, left: 50};\n",
       "\n",
       "        var width = 960 - margin.left - margin.right,\n",
       "            height = 700 - margin.top - margin.bottom;\n",
       "\n",
       "        var svg = d3.select(container)\n",
       "            .append(\"svg\")\n",
       "            .attr(\"width\", width + margin.left + margin.right)\n",
       "            .attr(\"height\", height + margin.top + margin.bottom)\n",
       "            .append(\"g\")\n",
       "            .attr(\"transform\", \"translate(\" + margin.left + \",\" + margin.top + \")\");\n",
       "\n",
       "        \n",
       "        // we expect data to look like so.\n",
       "        // var data = [\n",
       "        //     { podspec_field: \"containers\", e2e_hits: \"10\", conf_hits: \"15\"},\n",
       "        //     { podspec_field: \"volumes\", e2e_hits: \"12\", conf_hits: \"18\"},\n",
       "        //     { podspec_field: \"nodes\", e2e_hits: \"05\", conf_hits: \"20\"},\n",
       "        //     { podspec_field: \"storage\", e2e_hits: \"01\", conf_hits: \"15\"},\n",
       "        //     { podspec_field: \"k8s\", e2e_hits: \"02\", conf_hits: \"10\"},\n",
       "        // ];\n",
       "\n",
       "        // Transpose the data into layers\n",
       "        var dataset = d3.layout.stack()([\"e2e_hits\", \"conf_hits\"].map(function(fruit) {\n",
       "            return data.map(function(d) {\n",
       "                return {x: d.podspec_field, y: +d[fruit]};\n",
       "            });\n",
       "        }));\n",
       "        \n",
       "        // Set x, y and colors\n",
       "        var x = d3.scale.ordinal()\n",
       "            .domain(dataset[0].map(function(d) { return d.x; }))\n",
       "            .rangeRoundBands([10, width-10], 0.02);\n",
       "\n",
       "        var y = d3.scale.linear()\n",
       "            .domain([0, d3.max(dataset, function(d) {  return d3.max(d, function(d) { return d.y0 + d.y; });  })])\n",
       "            .range([height, 0]);\n",
       "\n",
       "        var colors = [\"#b33040\", \"#d25c4d\"];\n",
       "\n",
       "\n",
       "        // Define and draw axes\n",
       "        var yAxis = d3.svg.axis()\n",
       "            .scale(y)\n",
       "            .orient(\"left\")\n",
       "            .ticks(5)\n",
       "            .tickSize(-width, 0, 0)\n",
       "            .tickFormat( function(d) { return d } );\n",
       "\n",
       "        var xAxis = d3.svg.axis()\n",
       "            .scale(x)\n",
       "            .orient(\"bottom\");\n",
       "\n",
       "        svg.append(\"g\")\n",
       "            .attr(\"class\", \"y axis\")\n",
       "            .call(yAxis);\n",
       "\n",
       "        svg.append(\"g\")\n",
       "            .attr(\"class\", \"x axis\")\n",
       "            .attr(\"transform\", \"translate(0,\" + height + \")\")\n",
       "            .call(xAxis)\n",
       "            .selectAll(\"text\")  \n",
       "            .style(\"text-anchor\", \"end\")\n",
       "            .attr(\"dx\", \"-.8em\")\n",
       "            .attr(\"dy\", \".15em\")\n",
       "            .attr(\"transform\", \"rotate(-65)\" );\n",
       "\n",
       "        // Create groups for each series, rects for each segment \n",
       "        var groups = svg.selectAll(\"g.cost\")\n",
       "            .data(dataset)\n",
       "            .enter().append(\"g\")\n",
       "            .attr(\"class\", \"cost\")\n",
       "            .style(\"fill\", function(d, i) { return colors[i]; });\n",
       "\n",
       "        var rect = groups.selectAll(\"rect\")\n",
       "            .data(function(d) { return d; })\n",
       "            .enter()\n",
       "            .append(\"rect\")\n",
       "            .attr(\"x\", function(d) { return x(d.x); })\n",
       "            .attr(\"y\", function(d) { return y(d.y0 + d.y); })\n",
       "            .attr(\"height\", function(d) { return y(d.y0) - y(d.y0 + d.y); })\n",
       "            .attr(\"width\", x.rangeBand())\n",
       "            .on(\"mouseover\", function() { tooltip.style(\"display\", null); })\n",
       "            .on(\"mouseout\", function() { tooltip.style(\"display\", \"none\"); })\n",
       "            .on(\"mousemove\", function(d) {\n",
       "                var xPosition = d3.mouse(this)[0] - 15;\n",
       "                var yPosition = d3.mouse(this)[1] - 25;\n",
       "                tooltip.attr(\"transform\", \"translate(\" + xPosition + \",\" + yPosition + \")\");\n",
       "                tooltip.select(\"text\").text(d.y);\n",
       "            });\n",
       "\n",
       "\n",
       "        // Draw legend\n",
       "        var legend = svg.selectAll(\".legend\")\n",
       "            .data(colors)\n",
       "            .enter().append(\"g\")\n",
       "            .attr(\"class\", \"legend\")\n",
       "            .attr(\"transform\", function(d, i) { return \"translate(30,\" + i * 19 + \")\"; });\n",
       "        \n",
       "        legend.append(\"rect\")\n",
       "            .attr(\"x\", width - 18)\n",
       "            .attr(\"width\", 18)\n",
       "            .attr(\"height\", 18)\n",
       "            .style(\"fill\", function(d, i) {return colors.slice().reverse()[i];});\n",
       "        \n",
       "        legend.append(\"text\")\n",
       "            .attr(\"x\", width + 5)\n",
       "            .attr(\"y\", 9)\n",
       "            .attr(\"dy\", \".35em\")\n",
       "            .style(\"text-anchor\", \"start\")\n",
       "            .text(function(d, i) { \n",
       "                switch (i) {\n",
       "                case 0: return \"conf_hits\";\n",
       "                case 1: return \"e2e_hits\";\n",
       "                }\n",
       "            });\n",
       "\n",
       "\n",
       "        // Prep the tooltip bits, initial display is hidden\n",
       "        var tooltip = svg.append(\"g\")\n",
       "            .attr(\"class\", \"tooltip\")\n",
       "            .style(\"display\", \"none\");\n",
       "        \n",
       "        tooltip.append(\"rect\")\n",
       "            .attr(\"width\", 30)\n",
       "            .attr(\"height\", 20)\n",
       "            .attr(\"fill\", \"white\")\n",
       "            .style(\"opacity\", 0.5);\n",
       "\n",
       "        tooltip.append(\"text\")\n",
       "            .attr(\"x\", 15)\n",
       "            .attr(\"dy\", \"1.2em\")\n",
       "            .style(\"text-anchor\", \"middle\")\n",
       "            .attr(\"font-size\", \"12px\")\n",
       "            .attr(\"font-weight\", \"bold\");\n",
       "    }\n",
       "    return draw;\n",
       "})\n",
       "\n",
       "element.append('<small>&#x25C9; &#x25CB; &#x25EF; Loaded barchart.js successfully! &#x25CC; &#x25CE; &#x25CF;</small>');\n",
       "\n",
       "\n",
       "\n"
      ],
      "text/plain": [
       "<IPython.core.display.Javascript object>"
      ]
     },
     "metadata": {},
     "output_type": "display_data"
    }
   ],
   "source": [
    "display(Javascript(\"require.config({paths: {d3: 'https://d3js.org/d3.v3.min'}});\"))\n",
    "display(Javascript(filename=\"barchart.js\"))"
   ]
  },
  {
   "cell_type": "markdown",
   "metadata": {},
   "source": [
    "The barchart visualization is expecting a container and data.  The container is the dom element we'll append our svg to, and then our imported data will generate a bar chart.\n",
    "\n",
    "element is a global variable indicating the output cell for wherever the code is located, and so by wrapping our javascript in closures, we can keep element local to any particular cell.\n",
    "\n",
    "So here we are defining a python function, that is just a string interpoloation of a javascript function, that thinks it is latching to an html page, but is actually latching onto a single cell (within an html page)."
   ]
  },
  {
   "cell_type": "code",
   "execution_count": 26,
   "metadata": {},
   "outputs": [],
   "source": [
    "def draw_barchart():\n",
    "    display(Javascript(\"\"\"\n",
    "        (function(element){\n",
    "            require(['barchart'], function(barchart) {\n",
    "                barchart(element.get(0), %s);\n",
    "            });\n",
    "        })(element);\n",
    "    \"\"\" % json.dumps(data)))"
   ]
  },
  {
   "cell_type": "markdown",
   "metadata": {},
   "source": [
    "To include the visualization in our notebook, we just call the function."
   ]
  },
  {
   "cell_type": "code",
   "execution_count": 27,
   "metadata": {},
   "outputs": [
    {
     "data": {
      "application/javascript": [
       "\n",
       "        (function(element){\n",
       "            require(['barchart'], function(barchart) {\n",
       "                barchart(element.get(0), [{\"podspec_field\": \"ephemeralContainers\", \"e2e_hits\": 0, \"conf_hits\": 0}, {\"podspec_field\": \"overhead\", \"e2e_hits\": 0, \"conf_hits\": 0}, {\"podspec_field\": \"preemptionPolicy\", \"e2e_hits\": 0, \"conf_hits\": 0}, {\"podspec_field\": \"shareProcessNamespace\", \"e2e_hits\": 0, \"conf_hits\": 0}, {\"podspec_field\": \"topologySpreadConstraints\", \"e2e_hits\": 0, \"conf_hits\": 0}, {\"podspec_field\": \"readinessGates\", \"e2e_hits\": 8, \"conf_hits\": 0}, {\"podspec_field\": \"dnsConfig\", \"e2e_hits\": 16, \"conf_hits\": 0}, {\"podspec_field\": \"hostIPC\", \"e2e_hits\": 16, \"conf_hits\": 0}, {\"podspec_field\": \"hostPID\", \"e2e_hits\": 16, \"conf_hits\": 0}, {\"podspec_field\": \"priorityClassName\", \"e2e_hits\": 32, \"conf_hits\": 0}, {\"podspec_field\": \"runtimeClassName\", \"e2e_hits\": 36, \"conf_hits\": 0}, {\"podspec_field\": \"affinity\", \"e2e_hits\": 43, \"conf_hits\": 0}, {\"podspec_field\": \"hostAliases\", \"e2e_hits\": 0, \"conf_hits\": 8}, {\"podspec_field\": \"imagePullSecrets\", \"e2e_hits\": 0, \"conf_hits\": 8}, {\"podspec_field\": \"activeDeadlineSeconds\", \"e2e_hits\": 8, \"conf_hits\": 14}, {\"podspec_field\": \"initContainers\", \"e2e_hits\": 1315, \"conf_hits\": 32}, {\"podspec_field\": \"hostNetwork\", \"e2e_hits\": 1574, \"conf_hits\": 41}, {\"podspec_field\": \"automountServiceAccountToken\", \"e2e_hits\": 36, \"conf_hits\": 60}, {\"podspec_field\": \"subdomain\", \"e2e_hits\": 85, \"conf_hits\": 60}, {\"podspec_field\": \"hostname\", \"e2e_hits\": 85, \"conf_hits\": 60}, {\"podspec_field\": \"priority\", \"e2e_hits\": 83, \"conf_hits\": 105}, {\"podspec_field\": \"tolerations\", \"e2e_hits\": 83, \"conf_hits\": 105}, {\"podspec_field\": \"nodeName\", \"e2e_hits\": 4170, \"conf_hits\": 127}, {\"podspec_field\": \"nodeSelector\", \"e2e_hits\": 257, \"conf_hits\": 128}, {\"podspec_field\": \"serviceAccount\", \"e2e_hits\": 1199, \"conf_hits\": 201}, {\"podspec_field\": \"serviceAccountName\", \"e2e_hits\": 1199, \"conf_hits\": 201}, {\"podspec_field\": \"volumes\", \"e2e_hits\": 6903, \"conf_hits\": 876}, {\"podspec_field\": \"enableServiceLinks\", \"e2e_hits\": 6506, \"conf_hits\": 1741}, {\"podspec_field\": \"containers\", \"e2e_hits\": 13194, \"conf_hits\": 2063}, {\"podspec_field\": \"dnsPolicy\", \"e2e_hits\": 13194, \"conf_hits\": 2063}, {\"podspec_field\": \"restartPolicy\", \"e2e_hits\": 13194, \"conf_hits\": 2063}, {\"podspec_field\": \"schedulerName\", \"e2e_hits\": 13194, \"conf_hits\": 2063}, {\"podspec_field\": \"securityContext\", \"e2e_hits\": 13194, \"conf_hits\": 2063}, {\"podspec_field\": \"terminationGracePeriodSeconds\", \"e2e_hits\": 13194, \"conf_hits\": 2063}]);\n",
       "            });\n",
       "        })(element);\n",
       "    "
      ],
      "text/plain": [
       "<IPython.core.display.Javascript object>"
      ]
     },
     "metadata": {},
     "output_type": "display_data"
    }
   ],
   "source": [
    "draw_barchart()"
   ]
  },
  {
   "cell_type": "markdown",
   "metadata": {},
   "source": [
    "Terrible graphic but successful example!"
   ]
  }
 ],
 "metadata": {
  "finalized": {
   "timestamp": 1569882704042,
   "trusted": true
  },
  "kernelspec": {
   "display_name": "Python 3",
   "language": "python",
   "name": "python3"
  },
  "language_info": {
   "codemirror_mode": {
    "name": "ipython",
    "version": 3
   },
   "file_extension": ".py",
   "mimetype": "text/x-python",
   "name": "python",
   "nbconvert_exporter": "python",
   "pygments_lexer": "ipython3",
   "version": "3.6.8"
  }
 },
 "nbformat": 4,
 "nbformat_minor": 2
}
